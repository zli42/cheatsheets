{
 "cells": [
  {
   "attachments": {},
   "cell_type": "markdown",
   "metadata": {},
   "source": [
    "# 基于广告历史数据的出价优化\n",
    "\n",
    "__目的__：建模预估 CTR 和 CTCVR。\n",
    "\n",
    "__底层逻辑__：用户和广告的匹配问题。某用户具备特定设备特征，同时其历史行为使其区别于其他用户，在某上下文（地理位置、日期、广告位等）条件下，用户对某个形式的广告素材感兴趣并进行了点击和转化。\n",
    "\n",
    "__数据需求__：以曝光日志为主表，join 点击、转化日志，join 设备特征、广告特征、上下文特征等。\n",
    "\n",
    "## 数据探索\n",
    "\n",
    "样本数据约 500w 条，将原数据每 100w 拆分用于验证。\n",
    "\n",
    "```shell\n",
    "split dsp_abroad_adv_behavior_device_label_20221224_20221228.csv -l 1000000 -d sample\n",
    "\n",
    "title=`cat sample00 | head -n 1`\n",
    "sed -i \"1i${title}\" sample05\n",
    "```"
   ]
  },
  {
   "cell_type": "code",
   "execution_count": 1,
   "metadata": {},
   "outputs": [],
   "source": [
    "import pandas as pd\n",
    "\n",
    "df = pd.read_csv(\"./data/sample00\")"
   ]
  },
  {
   "attachments": {},
   "cell_type": "markdown",
   "metadata": {},
   "source": [
    "整体 CTR、CTCVR 情况"
   ]
  },
  {
   "cell_type": "code",
   "execution_count": 2,
   "metadata": {},
   "outputs": [
    {
     "name": "stdout",
     "output_type": "stream",
     "text": [
      "ctr: 0.6392786392786393\n",
      "ctcvr: 0.20147320147320147\n"
     ]
    }
   ],
   "source": [
    "ctr = df['is_clk'].mean()\n",
    "ctcvr = df['is_conv'].mean()\n",
    "\n",
    "print(f'ctr: {ctr}')\n",
    "print(f'ctcvr: {ctcvr}')"
   ]
  },
  {
   "attachments": {},
   "cell_type": "markdown",
   "metadata": {},
   "source": [
    "检查特征缺失情况"
   ]
  },
  {
   "cell_type": "code",
   "execution_count": 3,
   "metadata": {},
   "outputs": [
    {
     "data": {
      "text/plain": [
       "device_id      0.000000\n",
       "campaign_id    0.000000\n",
       "link_id        0.000011\n",
       "channel_id     0.000000\n",
       "country_adv    0.000000\n",
       "ad_type        0.000000\n",
       "os             0.000000\n",
       "bundle         0.000015\n",
       "ad_size        0.000000\n",
       "make           0.027064\n",
       "model          1.000000\n",
       "carrier        0.160751\n",
       "device_type    0.021247\n",
       "country        0.021261\n",
       "region         0.094766\n",
       "city           0.078558\n",
       "is_clk         0.000000\n",
       "is_conv        0.000000\n",
       "data_date      0.000000\n",
       "data_hour      0.000000\n",
       "dtype: float64"
      ]
     },
     "execution_count": 3,
     "metadata": {},
     "output_type": "execute_result"
    }
   ],
   "source": [
    "df.isna().mean()"
   ]
  },
  {
   "attachments": {},
   "cell_type": "markdown",
   "metadata": {},
   "source": [
    "`model` 特征 100% 缺失，`carrier` 特征缺失约 16%，`region` `city` 缺失不足 10%，其他特征缺失情况较少。\n",
    "\n",
    "删除 `model` 特征列，其他列缺失情况可以接受，暂不处理。"
   ]
  },
  {
   "attachments": {},
   "cell_type": "markdown",
   "metadata": {},
   "source": [
    "检查各特征值的数量"
   ]
  },
  {
   "cell_type": "code",
   "execution_count": 4,
   "metadata": {},
   "outputs": [
    {
     "data": {
      "text/plain": [
       "device_id      835146\n",
       "campaign_id        20\n",
       "link_id           104\n",
       "channel_id         20\n",
       "country_adv         7\n",
       "ad_type             3\n",
       "os                  1\n",
       "bundle          13196\n",
       "ad_size           318\n",
       "make              557\n",
       "model               0\n",
       "carrier          1791\n",
       "device_type         5\n",
       "country            31\n",
       "region           1183\n",
       "city             5816\n",
       "is_clk              2\n",
       "is_conv             2\n",
       "data_date           5\n",
       "data_hour          24\n",
       "dtype: int64"
      ]
     },
     "execution_count": 4,
     "metadata": {},
     "output_type": "execute_result"
    }
   ],
   "source": [
    "df.nunique()"
   ]
  },
  {
   "attachments": {},
   "cell_type": "markdown",
   "metadata": {},
   "source": [
    "`os` 列只有单值，对模型预估无作用。"
   ]
  },
  {
   "attachments": {},
   "cell_type": "markdown",
   "metadata": {},
   "source": [
    "## 特征处理\n",
    "\n",
    "根据数据探索内容，删除缺失值较多的特征和对模型无用的特征，构建数据集。"
   ]
  },
  {
   "cell_type": "code",
   "execution_count": 5,
   "metadata": {},
   "outputs": [
    {
     "name": "stderr",
     "output_type": "stream",
     "text": [
      "/home/zli/.local/lib/python3.8/site-packages/tqdm/auto.py:22: TqdmWarning: IProgress not found. Please update jupyter and ipywidgets. See https://ipywidgets.readthedocs.io/en/stable/user_install.html\n",
      "  from .autonotebook import tqdm as notebook_tqdm\n"
     ]
    }
   ],
   "source": [
    "from sklearn.preprocessing import OrdinalEncoder\n",
    "import pandas as pd\n",
    "import torch\n",
    "from torch.utils.data import Dataset\n",
    "\n",
    "\n",
    "class MyDataset(Dataset):\n",
    "    def __init__(self, data_file):\n",
    "        super().__init__()\n",
    "        self.encoder = OrdinalEncoder(\n",
    "            handle_unknown=\"use_encoded_value\",\n",
    "            unknown_value=-1,\n",
    "            encoded_missing_value=-1,\n",
    "        )\n",
    "        self.df = self._processor(data_file)\n",
    "\n",
    "    def __len__(self):\n",
    "        return self.df.shape[0]\n",
    "\n",
    "    def __getitem__(self, index):\n",
    "        feature = torch.from_numpy(self.df.iloc[index, :11].to_numpy()).long()\n",
    "        clk = self.df.iloc[index, -2]\n",
    "        conv = self.df.iloc[index, -1]\n",
    "        return feature, clk, conv\n",
    "\n",
    "    def _processor(self, data_file):\n",
    "        df = pd.read_csv(data_file)\n",
    "        df.drop(\n",
    "            columns=[\n",
    "                \"device_id\",\n",
    "                \"campaign_id\",\n",
    "                \"link_id\",\n",
    "                \"os\",\n",
    "                \"model\",\n",
    "                \"city\",\n",
    "                \"data_date\",\n",
    "            ],\n",
    "            inplace=True,\n",
    "        )\n",
    "        df.dropna(axis=0, how=\"any\", subset=[\"is_clk\", \"is_conv\"], inplace=True)\n",
    "        df.fillna(\"None\", inplace=True)\n",
    "\n",
    "        feature = df.drop(columns=[\"is_clk\", \"is_conv\"])\n",
    "        self.encoder.fit(feature)\n",
    "        data = self.encoder.transform(feature)\n",
    "\n",
    "        df_new = pd.DataFrame(data=data, columns=feature.columns)\n",
    "        df_new[\"is_clk\"] = df[\"is_clk\"].astype(\"float\")\n",
    "        df_new[\"is_conv\"] = df[\"is_conv\"].astype(\"float\")\n",
    "\n",
    "        return df_new\n",
    "\n",
    "    def value_count(self):\n",
    "        return self.df.iloc[:, :-2].nunique()\n",
    "\n",
    "    def encoder(self):\n",
    "        return self.encoder\n"
   ]
  },
  {
   "attachments": {},
   "cell_type": "markdown",
   "metadata": {},
   "source": [
    "## 模型构建\n",
    "\n",
    "工业中常用的 CVR 多任务预估模型为 ESMM。\n",
    "\n",
    "ESMM 主要解决了两个问题：\n",
    "1. 样本选择偏差。模型学习到的是曝光点击后的转化，而模型预测的是整个空间样本。\n",
    "2. 样本稀疏。转化的样本相对于点击少很多，过于稀疏的样本会导致模型难以训练。\n",
    "\n",
    "ESMM 通过学习 CTR、CTCVR 两个任务，间接学习 CVR。\n",
    "\n",
    "$p(y=1,z=1|x)=p(y=1|x)\\times p(z=1|y=1,x)$\n",
    "\n",
    "其中，x、y、z 分别代表曝光、点击、转化。\n",
    "\n",
    "模型结构如下：\n",
    "\n",
    "![](./data/esmm.png)"
   ]
  },
  {
   "cell_type": "code",
   "execution_count": 6,
   "metadata": {},
   "outputs": [],
   "source": [
    "import torch\n",
    "from torch import nn\n",
    "\n",
    "\n",
    "class FeatureExtractor(nn.Module):\n",
    "    def __init__(self, embedding_sizes):\n",
    "        super().__init__()\n",
    "        self.embedding_layers = nn.ModuleList(\n",
    "            [\n",
    "                nn.Embedding(num_embeddings, embedding_dim)\n",
    "                for num_embeddings, embedding_dim in embedding_sizes\n",
    "            ]\n",
    "        )\n",
    "\n",
    "    def forward(self, x):\n",
    "        h = [\n",
    "            embedding_layer(x[..., i])\n",
    "            for i, embedding_layer in enumerate(self.embedding_layers)\n",
    "        ]\n",
    "        h = torch.cat(h, dim=-1)\n",
    "        return h\n",
    "\n",
    "\n",
    "class CtrNetwork(nn.Module):\n",
    "    def __init__(self, input_dim):\n",
    "        super().__init__()\n",
    "        self.mlp = nn.Sequential(\n",
    "            nn.Linear(input_dim, 512),\n",
    "            nn.BatchNorm1d(512),\n",
    "            nn.ReLU(),\n",
    "            nn.Linear(512, 64),\n",
    "            nn.ReLU(),\n",
    "            nn.Dropout(0.5),\n",
    "            nn.Linear(64, 1),\n",
    "        )\n",
    "\n",
    "    def forward(self, x):\n",
    "        return self.mlp(x)\n",
    "\n",
    "\n",
    "class CvrNetwork(nn.Module):\n",
    "    def __init__(self, input_dim):\n",
    "        super().__init__()\n",
    "        self.mlp = nn.Sequential(\n",
    "            nn.Linear(input_dim, 512),\n",
    "            nn.BatchNorm1d(512),\n",
    "            nn.ReLU(),\n",
    "            nn.Linear(512, 64),\n",
    "            nn.ReLU(),\n",
    "            nn.Dropout(0.5),\n",
    "            nn.Linear(64, 1),\n",
    "        )\n",
    "\n",
    "    def forward(self, x):\n",
    "        return self.mlp(x)\n",
    "\n",
    "\n",
    "class ESMM(nn.Module):\n",
    "    def __init__(self, embedding_sizes):\n",
    "        super().__init__()\n",
    "        self.feature_extractor = FeatureExtractor(embedding_sizes)\n",
    "\n",
    "        input_dim = 0\n",
    "        for _, embedding_dim in embedding_sizes:\n",
    "            input_dim += embedding_dim\n",
    "\n",
    "        self.ctr_network = CtrNetwork(input_dim)\n",
    "        self.cvr_network = CvrNetwork(input_dim)\n",
    "\n",
    "    def forward(self, x):\n",
    "        x = self.feature_extractor(x)\n",
    "        p_ctr = self.ctr_network(x)\n",
    "        p_cvr = self.cvr_network(x)\n",
    "        p_ctcvr = torch.mul(p_ctr, p_cvr)\n",
    "        return p_ctr, p_ctcvr\n"
   ]
  },
  {
   "attachments": {},
   "cell_type": "markdown",
   "metadata": {},
   "source": [
    "## 模型训练"
   ]
  },
  {
   "cell_type": "code",
   "execution_count": 7,
   "metadata": {},
   "outputs": [],
   "source": [
    "from torch.utils.data import DataLoader\n",
    "\n",
    "train_data = MyDataset('./data/sample00')\n",
    "test_data = MyDataset('./data/sample05')\n",
    "\n",
    "batch_size = 64\n",
    "\n",
    "train_dataloader = DataLoader(train_data, batch_size=batch_size, shuffle=True)\n",
    "test_dataloader = DataLoader(test_data, batch_size=batch_size, shuffle=True)"
   ]
  },
  {
   "cell_type": "code",
   "execution_count": 8,
   "metadata": {},
   "outputs": [],
   "source": [
    "device = \"cuda\" if torch.cuda.is_available() else \"cpu\"\n",
    "\n",
    "embedding_sizes = torch.tensor(\n",
    "    [[cnt+1, max(int(cnt**0.25), 2)] for cnt in train_data.value_count().to_numpy()]\n",
    ")\n",
    "\n",
    "model = ESMM(embedding_sizes).to(device)\n",
    "\n",
    "loss_fn = nn.BCEWithLogitsLoss()\n",
    "\n",
    "optimizer = torch.optim.Adam(model.parameters(), lr=1e-2)\n"
   ]
  },
  {
   "cell_type": "code",
   "execution_count": 9,
   "metadata": {},
   "outputs": [],
   "source": [
    "from tqdm import tqdm\n",
    "\n",
    "def train(dataloader, model, loss_fn, optimizer, device):\n",
    "    running_ctr_loss = 0.0\n",
    "    running_ctcvr_loss = 0.0\n",
    "    running_total_loss = 0.0\n",
    "    size = len(dataloader.dataset)\n",
    "\n",
    "    model.train()\n",
    "    for X, click, conversion in tqdm(dataloader):\n",
    "        X = X.to(device)\n",
    "        click = click.unsqueeze_(-1).to(device)\n",
    "        conversion = conversion.unsqueeze_(-1).to(device)\n",
    "\n",
    "        p_ctr, p_ctcvr = model(X)\n",
    "        ctr_loss = loss_fn(p_ctr, click)\n",
    "        ctcvr_loss = loss_fn(p_ctcvr, conversion)\n",
    "        total_loss = ctr_loss + ctcvr_loss\n",
    "\n",
    "        running_ctr_loss += ctr_loss.item()\n",
    "        running_ctcvr_loss += ctcvr_loss.item()\n",
    "        running_total_loss += total_loss.item()\n",
    "\n",
    "        optimizer.zero_grad()\n",
    "        total_loss.backward()\n",
    "        optimizer.step()\n",
    "\n",
    "    return running_ctr_loss / size, running_ctcvr_loss / size, running_total_loss / size\n"
   ]
  },
  {
   "cell_type": "code",
   "execution_count": 10,
   "metadata": {},
   "outputs": [],
   "source": [
    "def test(dataloader, model, loss_fn, device):\n",
    "    running_ctr_loss = 0.0\n",
    "    running_ctcvr_loss = 0.0\n",
    "    running_total_loss = 0.0\n",
    "    size = len(dataloader.dataset)\n",
    "\n",
    "    model.eval()\n",
    "    with torch.no_grad():\n",
    "        for X, click, conversion in tqdm(dataloader):\n",
    "            X = X.to(device)\n",
    "            click = click.unsqueeze_(-1).to(device)\n",
    "            conversion = conversion.unsqueeze_(-1).to(device)\n",
    "\n",
    "            p_ctr, p_ctcvr = model(X)\n",
    "            ctr_loss = loss_fn(p_ctr, click)\n",
    "            ctcvr_loss = loss_fn(p_ctcvr, conversion)\n",
    "            total_loss = ctr_loss + ctcvr_loss\n",
    "\n",
    "            running_ctr_loss += ctr_loss.item()\n",
    "            running_ctcvr_loss += ctcvr_loss.item()\n",
    "            running_total_loss += total_loss.item()\n",
    "\n",
    "    return running_ctr_loss / size, running_ctcvr_loss / size, running_total_loss / size\n"
   ]
  },
  {
   "cell_type": "code",
   "execution_count": 11,
   "metadata": {},
   "outputs": [
    {
     "name": "stdout",
     "output_type": "stream",
     "text": [
      "\n",
      "Epoch 1\n"
     ]
    },
    {
     "name": "stderr",
     "output_type": "stream",
     "text": [
      "100%|██████████| 15625/15625 [07:37<00:00, 34.18it/s]\n",
      "100%|██████████| 223/223 [00:04<00:00, 54.88it/s]\n"
     ]
    },
    {
     "name": "stdout",
     "output_type": "stream",
     "text": [
      "[train] ctr loss: 0.0097, ctcvr loss: 0.0065, total loss: 0.0162\n",
      "[val] ctr loss: 0.0095, ctcvr loss: 0.0094, total loss: 0.0190\n",
      "\n",
      "Epoch 2\n"
     ]
    },
    {
     "name": "stderr",
     "output_type": "stream",
     "text": [
      "100%|██████████| 15625/15625 [06:33<00:00, 39.71it/s]\n",
      "100%|██████████| 223/223 [00:04<00:00, 55.52it/s]\n"
     ]
    },
    {
     "name": "stdout",
     "output_type": "stream",
     "text": [
      "[train] ctr loss: 0.0095, ctcvr loss: 0.0061, total loss: 0.0156\n",
      "[val] ctr loss: 0.0098, ctcvr loss: 0.0108, total loss: 0.0205\n",
      "\n",
      "Epoch 3\n"
     ]
    },
    {
     "name": "stderr",
     "output_type": "stream",
     "text": [
      "100%|██████████| 15625/15625 [06:32<00:00, 39.83it/s]\n",
      "100%|██████████| 223/223 [00:03<00:00, 56.23it/s]\n"
     ]
    },
    {
     "name": "stdout",
     "output_type": "stream",
     "text": [
      "[train] ctr loss: 0.0095, ctcvr loss: 0.0060, total loss: 0.0155\n",
      "[val] ctr loss: 0.0094, ctcvr loss: 0.0139, total loss: 0.0234\n",
      "\n",
      "Epoch 4\n"
     ]
    },
    {
     "name": "stderr",
     "output_type": "stream",
     "text": [
      "100%|██████████| 15625/15625 [06:36<00:00, 39.42it/s]\n",
      "100%|██████████| 223/223 [00:04<00:00, 53.55it/s]\n"
     ]
    },
    {
     "name": "stdout",
     "output_type": "stream",
     "text": [
      "[train] ctr loss: 0.0095, ctcvr loss: 0.0062, total loss: 0.0156\n",
      "[val] ctr loss: 0.0095, ctcvr loss: 0.0118, total loss: 0.0213\n",
      "\n",
      "Epoch 5\n"
     ]
    },
    {
     "name": "stderr",
     "output_type": "stream",
     "text": [
      "100%|██████████| 15625/15625 [06:48<00:00, 38.28it/s]\n",
      "100%|██████████| 223/223 [00:04<00:00, 53.35it/s]\n"
     ]
    },
    {
     "name": "stdout",
     "output_type": "stream",
     "text": [
      "[train] ctr loss: 0.0095, ctcvr loss: 0.0060, total loss: 0.0154\n",
      "[val] ctr loss: 0.0096, ctcvr loss: 0.0168, total loss: 0.0264\n",
      "\n",
      "Epoch 6\n"
     ]
    },
    {
     "name": "stderr",
     "output_type": "stream",
     "text": [
      "100%|██████████| 15625/15625 [07:35<00:00, 34.33it/s]\n",
      "100%|██████████| 223/223 [00:04<00:00, 50.00it/s]\n"
     ]
    },
    {
     "name": "stdout",
     "output_type": "stream",
     "text": [
      "[train] ctr loss: 0.0094, ctcvr loss: 0.0060, total loss: 0.0154\n",
      "[val] ctr loss: 0.0099, ctcvr loss: 0.0117, total loss: 0.0217\n",
      "\n",
      "Epoch 7\n"
     ]
    },
    {
     "name": "stderr",
     "output_type": "stream",
     "text": [
      "100%|██████████| 15625/15625 [07:37<00:00, 34.12it/s]\n",
      "100%|██████████| 223/223 [00:04<00:00, 52.11it/s]\n"
     ]
    },
    {
     "name": "stdout",
     "output_type": "stream",
     "text": [
      "[train] ctr loss: 0.0095, ctcvr loss: 0.0060, total loss: 0.0154\n",
      "[val] ctr loss: 0.0100, ctcvr loss: 0.0102, total loss: 0.0201\n",
      "\n",
      "Epoch 8\n"
     ]
    },
    {
     "name": "stderr",
     "output_type": "stream",
     "text": [
      "100%|██████████| 15625/15625 [07:40<00:00, 33.96it/s]\n",
      "100%|██████████| 223/223 [00:04<00:00, 51.35it/s]\n"
     ]
    },
    {
     "name": "stdout",
     "output_type": "stream",
     "text": [
      "[train] ctr loss: 0.0095, ctcvr loss: 0.0060, total loss: 0.0155\n",
      "[val] ctr loss: 0.0104, ctcvr loss: 0.0102, total loss: 0.0206\n",
      "\n",
      "Epoch 9\n"
     ]
    },
    {
     "name": "stderr",
     "output_type": "stream",
     "text": [
      "100%|██████████| 15625/15625 [07:37<00:00, 34.14it/s]\n",
      "100%|██████████| 223/223 [00:04<00:00, 52.07it/s]\n"
     ]
    },
    {
     "name": "stdout",
     "output_type": "stream",
     "text": [
      "[train] ctr loss: 0.0095, ctcvr loss: 0.0060, total loss: 0.0154\n",
      "[val] ctr loss: 0.0103, ctcvr loss: 0.0112, total loss: 0.0215\n",
      "\n",
      "Epoch 10\n"
     ]
    },
    {
     "name": "stderr",
     "output_type": "stream",
     "text": [
      "100%|██████████| 15625/15625 [11:15<00:00, 23.14it/s] \n",
      "100%|██████████| 223/223 [00:04<00:00, 54.51it/s]"
     ]
    },
    {
     "name": "stdout",
     "output_type": "stream",
     "text": [
      "[train] ctr loss: 0.0095, ctcvr loss: 0.0060, total loss: 0.0154\n",
      "[val] ctr loss: 0.0102, ctcvr loss: 0.0104, total loss: 0.0206\n"
     ]
    },
    {
     "name": "stderr",
     "output_type": "stream",
     "text": [
      "\n"
     ]
    }
   ],
   "source": [
    "epochs = 10\n",
    "train_ctr_loss = []\n",
    "train_ctcvr_loss = []\n",
    "train_total_loss = []\n",
    "test_ctr_loss = []\n",
    "test_ctcvr_loss = []\n",
    "test_total_loss = []\n",
    "\n",
    "for t in range(epochs):\n",
    "    print(f\"\\nEpoch {t+1}\")\n",
    "    \n",
    "    train_hist = train(train_dataloader, model, loss_fn, optimizer, device)\n",
    "    test_hist = test(test_dataloader, model, loss_fn, device)\n",
    "    \n",
    "    train_ctr_loss.append(train_hist[0])\n",
    "    train_ctcvr_loss.append(train_hist[1])\n",
    "    train_total_loss.append(train_hist[2])\n",
    "    test_ctr_loss.append(test_hist[0])\n",
    "    test_ctcvr_loss.append(test_hist[1])\n",
    "    test_total_loss.append(test_hist[2])\n",
    "\n",
    "    print('[train] ctr loss: {:.4f}, ctcvr loss: {:.4f}, total loss: {:.4f}'.format(train_hist[0], train_hist[1], train_hist[2]))\n",
    "    print('[val] ctr loss: {:.4f}, ctcvr loss: {:.4f}, total loss: {:.4f}'.format(test_hist[0], test_hist[1], test_hist[2]))\n"
   ]
  },
  {
   "attachments": {},
   "cell_type": "markdown",
   "metadata": {},
   "source": [
    "## 模型评估"
   ]
  },
  {
   "cell_type": "code",
   "execution_count": 12,
   "metadata": {},
   "outputs": [
    {
     "data": {
      "image/png": "[encoded data removed]",
      "text/plain": [
       "<Figure size 640x480 with 2 Axes>"
      ]
     },
     "metadata": {},
     "output_type": "display_data"
    }
   ],
   "source": [
    "import matplotlib.pyplot as plt\n",
    "\n",
    "x = [i for i in range(1, epochs+1)]\n",
    "\n",
    "plt.subplot(2, 1, 1)\n",
    "plt.plot(x, train_ctr_loss)\n",
    "plt.plot(x, test_ctr_loss)\n",
    "plt.legend(['train', 'val'])\n",
    "plt.title(\"ctr loss\")\n",
    "\n",
    "plt.subplot(2, 1, 2)\n",
    "plt.plot(x, train_ctcvr_loss)\n",
    "plt.plot(x, test_ctcvr_loss)\n",
    "plt.legend(['train', 'val'])\n",
    "plt.title(\"cvr loss\")\n",
    "\n",
    "plt.show()"
   ]
  },
  {
   "cell_type": "code",
   "execution_count": 13,
   "metadata": {},
   "outputs": [
    {
     "name": "stdout",
     "output_type": "stream",
     "text": [
      "ctr auc: 0.659\n",
      "ctcvr auc: 0.585\n"
     ]
    }
   ],
   "source": [
    "from sklearn.metrics import roc_auc_score\n",
    "\n",
    "ctr_auc = 0.0\n",
    "ctcvr_auc = 0.0\n",
    "model.eval()\n",
    "with torch.no_grad():\n",
    "    for X, click, conversion in test_dataloader:\n",
    "        X = X.to(device)\n",
    "        click = click.unsqueeze_(-1).to(device)\n",
    "        conversion = conversion.unsqueeze_(-1).to(device)\n",
    "\n",
    "        p_ctr, p_ctcvr = model(X)\n",
    "\n",
    "        ctr_auc += roc_auc_score(click, p_ctr)\n",
    "        ctcvr_auc += roc_auc_score(conversion, p_ctcvr)\n",
    "\n",
    "    print('ctr auc: {:.3f}'.format(ctr_auc/len(test_dataloader)))\n",
    "    print('ctcvr auc: {:.3f}'.format(ctcvr_auc/len(test_dataloader)))"
   ]
  },
  {
   "attachments": {},
   "cell_type": "markdown",
   "metadata": {},
   "source": [
    "观察模型训练及验证的 loss 曲线，无明显下降。\n",
    "\n",
    "在验证集上分别计算，点击的平均 AUC 为 0.659，转化的平均 AUC 为 0.585。\n",
    "\n",
    "模型表现非常差，几乎学不到任何有效信息。"
   ]
  },
  {
   "attachments": {},
   "cell_type": "markdown",
   "metadata": {},
   "source": [
    "## 结论\n",
    "\n",
    "现有特征主要为设备品牌区域信息和广告渠道大小类型等信息，缺少用户兴趣画像和广告内容画像，基于现有特征即使人类专家也很难判断点击情况，模型更难于学习设备和广告的匹配关系。\n",
    "\n",
    "优化方向：\n",
    "1. 特征方面：用户侧挖掘能描述用户兴趣的特征，广告侧增加基于广告内容的画像信息\n",
    "2. 数据方面：增加数据量，考虑到新用户较多的冷启动问题，增加数据到 3 个月以上可能更好地描述用户特征\n",
    "3. 模型方面：目前使用模型结构较为简单，未考虑用户和广告间的特征交叉\n",
    "\n",
    "更精细的特征工程，加上更大量的数据，可以支持更复杂的模型学到更深层的隐含关系。"
   ]
  }
 ],
 "metadata": {
  "kernelspec": {
   "display_name": "Python 3",
   "language": "python",
   "name": "python3"
  },
  "language_info": {
   "codemirror_mode": {
    "name": "ipython",
    "version": 3
   },
   "file_extension": ".py",
   "mimetype": "text/x-python",
   "name": "python",
   "nbconvert_exporter": "python",
   "pygments_lexer": "ipython3",
   "version": "3.8.10 (default, Nov 14 2022, 12:59:47) \n[GCC 9.4.0]"
  },
  "orig_nbformat": 4,
  "vscode": {
   "interpreter": {
    "hash": "916dbcbb3f70747c44a77c7bcd40155683ae19c65e1c03b4aa3499c5328201f1"
   }
  }
 },
 "nbformat": 4,
 "nbformat_minor": 2
}
